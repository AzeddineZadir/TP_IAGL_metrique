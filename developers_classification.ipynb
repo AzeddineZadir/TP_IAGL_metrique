{
 "cells": [
  {
   "cell_type": "code",
   "execution_count": 13,
   "metadata": {},
   "outputs": [],
   "source": [
    "import pickle\n",
    "import numpy as np\n",
    "import pandas as pd\n",
    "from imblearn.over_sampling import KMeansSMOTE\n",
    "from sklearn.metrics import f1_score, recall_score, precision_score, classification_report, balanced_accuracy_score\n",
    "from sklearn.model_selection import StratifiedKFold\n",
    "from sklearn.ensemble import RandomForestClassifier\n",
    "from sklearn.preprocessing import MinMaxScaler\n",
    "from sklearn.ensemble import RandomForestClassifier\n",
    "from sklearn.linear_model import LinearRegression\n",
    "from sklearn.metrics import r2_score\n",
    "import glob\n",
    "import joblib\n",
    "from collections import Counter\n",
    "\n",
    "import os\n",
    "import re\n",
    "import subprocess\n",
    "import glob\n",
    "from git import Repo, Git\n",
    "\n",
    "from matplotlib import pyplot as plt\n",
    "\n",
    "import os.path\n",
    "from os import path\n",
    "\n"
   ]
  },
  {
   "cell_type": "markdown",
   "metadata": {
    "pycharm": {
     "name": "#%% md\n"
    }
   },
   "source": [
    "Fonction permettant de supprimer des colonnes dans un dataframe Pandas."
   ]
  },
  {
   "cell_type": "code",
   "execution_count": 2,
   "metadata": {
    "pycharm": {
     "name": "#%%\n"
    }
   },
   "outputs": [],
   "source": [
    "def delete_unused_columns(df):\n",
    "    columns_to_drop = [\"name\", \"followers\", \"commit_count_a\", \"source\", \"job\", \"name_without_spaces\", \"from\", \"to\",\n",
    "                       \"project\", \"index\", \"AddSM\",\"DelSM\",\"ChurnSM\",\"SumAddDelSM\",\"SumAddDel\"]\n",
    "\n",
    "    for column_to_drop in columns_to_drop:\n",
    "        if column_to_drop in df.columns :\n",
    "            df.drop(columns=[column_to_drop], inplace=True)\n",
    "\n",
    "    df[\"DiP\"] = df[\"DiP\"].round()\n",
    "    df[\"DiP\"].replace(0, 1, inplace=True)"
   ]
  },
  {
   "cell_type": "markdown",
   "metadata": {},
   "source": [
    "Fonction permettant d'appliquer un logarithme sur des colonnes d'un dataframe Pandas."
   ]
  },
  {
   "cell_type": "code",
   "execution_count": 3,
   "metadata": {
    "pycharm": {
     "name": "#%%\n"
    }
   },
   "outputs": [],
   "source": [
    "def log_dataframe(df):\n",
    "\n",
    "    columns_4_log = [\"SumAddDelLOC\", \"DiP\", \"NoC\", \"SumAddDelF\",\n",
    "                     \"SumAddDelSAM\", \"AddLOC\", \"DelLOC\", \"AddSAM\", \"DelSAM\"]\n",
    "\n",
    "    for column in columns_4_log:\n",
    "        df[column] = np.log(df[column] + 1)\n",
    "    \n",
    "    return df"
   ]
  },
  {
   "cell_type": "markdown",
   "metadata": {
    "pycharm": {
     "name": "#%% md\n"
    }
   },
   "source": [
    "Scores the classifier using a k-fold (here a Stratified 4-fold with shuffle)\n",
    "Synthetic data are created to train the classifier for each fold.\n",
    "Real data are used to compute measures for the classifier."
   ]
  },
  {
   "cell_type": "markdown",
   "metadata": {},
   "source": [
    "## 1) Récupération des métriques de BroadleafCommerce\n",
    "\n",
    "Nous travaillerons avec les versions majeures et mineures (voir [semantic versioning](https://semver.org/lang/fr/)) du projet BroadleafCommerce disponible sur GitHub : [https://github.com/BroadleafCommerce/BroadleafCommerce](https://github.com/BroadleafCommerce/BroadleafCommerce). Pour cela, nous allons cloner le dépôt puis récupérer les tags des versions et les filtrer par une expression régulière. Puis, pour chacun de ces tags, \"checkouter\" la version correspondante. Nous lancerons ensuite l'extraction des métriques à l'aide de l'application Java : ck ([https://github.com/mauricioaniche/ck](https://github.com/mauricioaniche/ck)). Cette application créée par Maurício Aniche est dédiée à l'extraction de plusieurs métriques logicielles dont le nombre de lignes de code que nous utiliserons plus tard. \n",
    "\n",
    "Dans ce TP, nous allons extraire \"manuellement\" métriques mais, les plateformes d'intégration continue comme Jenkins ou les outils d'analyse statique comme SonarQube permettent également de calculer des métriques de manière automatique à chaque version releasée ou commitée sur votre système de gestion de versions. \n",
    "\n",
    "\n",
    "Pour notre cas d'étude, nous allons : \n",
    "\n",
    "1. Utiliser le package GitPython et sa [documentation](https://gitpython.readthedocs.io/en/stable/)) pour :\n",
    "\n",
    "* Cloner le dépôt Github de BroadleafCommerce à l'endroit indiqué par la variable <code> PATH_TO_REPO </code> à l'aide de la méthode <code> Repo.clone_from </code>\n",
    "* Créer un objet <code> Repo </code> qui vous permettra de récupérer les tags des versions\n",
    "* Créer un objet <code> Git </code> qui vous permettra de \"checkouter\" la version désirée\n",
    "\n",
    "2. Récupérer la liste des tags du dépôt à l'aide de l'objet <code> Repo </code>.\n",
    "\n",
    "3. Itérer sur la liste des tags, où pour chaque tag vous allez : \n",
    "\n",
    "* Vérifier par une regexp que l'on se situe sur des tags ayant la forme <code> broadleaf-X-Y-0-GA </code> où <code> X </code> et <code> Y </code> peuvent varier entre 0 et 9 et où le tag a une taille fixe (utilisation de ^ et $ pour matérialiser le début et la fin de chaine de caractères)\n",
    "* Vérifier que l'on ne va pas extraire les métriques d'une version déjà présente dans le dossier <code> ck_metrics </code>\n",
    "* **/!\\ Une fois ces vérifications effectuées,** checkouter la version désirée à l'aide du tag\n",
    "* Lancer l'extraction des métriques à l'aide de l'instruction python suivante : <code> subprocess.run([\"java\", \"-jar\", \"ck.jar\", \"..\" + os.sep + \"BroadleafCommerce\"]) </code>\n",
    "* Renommer le fichier <code> class.csv </code> en <code> class_[tag].csv </code> et supprimer les fichiers <code> variable.csv, methode.csv, field.csv </code> créés par ck. "
   ]
  },
  {
   "cell_type": "code",
   "execution_count": 4,
   "metadata": {},
   "outputs": [
    {
     "name": "stdout",
     "output_type": "stream",
     "text": [
      ".\\BroadleafCommerce\n",
      "[]\n"
     ]
    }
   ],
   "source": [
    "PATH_TO_REPO = \".\"+os.sep+\"BroadleafCommerce\"\n",
    "\n",
    "print(PATH_TO_REPO)\n",
    "\n",
    "# Repo.clone_from(\"https://github.com/BroadleafCommerce/BroadleafCommerce\",PATH_TO_REPO,recursive=True)\n",
    "\n",
    "#Créer les objets Git et repo ici avant l'instruction change directory\n",
    "repo = Repo(PATH_TO_REPO)\n",
    "\n",
    "gitObject= Git(PATH_TO_REPO)\n",
    "\n",
    "wd_notebook = os.getcwd()\n",
    "# print(wd_notebook)\n",
    "os.chdir(\".\" + os.sep + \"ck_metrics\")\n",
    "\n",
    "#Placer l'ensemble du code nécessaire à l'extraction ici\n",
    "tags = sorted(repo.tags, key=lambda t: t.commit.committed_datetime)\n",
    "strTags = []\n",
    "#print(tags)\n",
    "m = \"^broadleaf-+[0-9].+[0-9].0-GA$\"\n",
    "\n",
    "#r\"^broadleaf-[0-9].[0-9].0-$GA\"\n",
    "regx = re.compile(m)\n",
    "\n",
    "for tag in tags :\n",
    "    # print(str(tag))\n",
    "    strTags.append(tag.name)\n",
    "    \n",
    "tagsToCheckout = []\n",
    "allTags = []\n",
    "for strTag in strTags : \n",
    "    if regx.match(strTag) is not None:\n",
    "        allTags.append(strTag)\n",
    "\n",
    "\n",
    "for strTag in strTags : \n",
    "    if regx.match(strTag) is not None and not os.path.exists(\"class_\"+strTag+\".csv\"):\n",
    "        tagsToCheckout.append(strTag)\n",
    "# for tag in strT\n",
    "\n",
    "print(tagsToCheckout)\n",
    "\n",
    "for tag in tagsToCheckout:\n",
    "    print(\"Checkouting tag: \"+tag)\n",
    "    repo.git.checkout(tag)\n",
    "    csvFile = \"class_\"+tag+\".csv\"\n",
    "    print(\"Extracting Metrics of: \"+csvFile)\n",
    "    subprocess.run([\"java\", \"-jar\", \"ck.jar\", \"..\" + os.sep + \"BroadleafCommerce\"])\n",
    "    os.remove(\"method.csv\")\n",
    "    os.remove(\"field.csv\")\n",
    "    os.remove(\"variable.csv\")\n",
    "    os.rename(\"class.csv\", csvFile)\n",
    "\n",
    "os.chdir(wd_notebook)\n",
    "\n",
    "# print(wd_notebook)\n",
    "\n"
   ]
  },
  {
   "cell_type": "markdown",
   "metadata": {},
   "source": [
    "## 2) Utilisation du classifieur de développeurs (Random Forest)\n",
    " \n",
    "Nous allons maintenant utiliser le classifieur de développeurs sauvegardé sous le nom \"classifier_rf.pkl\". \n",
    "Pour cela nous allons charger le classifieur à l'aide de <code> joblib.load </code> ([documentation](https://joblib.readthedocs.io/en/latest/generated/joblib.load.html))\n",
    "\n",
    "2. Nous allons utiliser les métriques (23) associées à des développeurs, celles-ci sont stockées dans le dossier <code> metrics_by_dev </code>. Chaque fichier de ce dossier est nommé en fonction de la version sur laquelle les métriques ont été extraites. Nous allons donc itérer sur la **liste de ces fichiers ordonnée par ordre alphanumérique**. \n",
    "\n",
    "4. Pour chaque fichier CSV, l'ouvrir avec Pandas en tant que Dataframe via la fonction : <code> pd.read_csv </code> ([documentation](https://pandas.pydata.org/pandas-docs/stable/reference/api/pandas.read_csv.html))\n",
    "\n",
    "3. Ces métriques sont à l'état \"brut\" dans les fichiers, c'est-à-dire qu'elles ont des échelles et des unités différentes. Le classifieur Random Forest que nous avons entrainé lui, ne travaille qu'avec des variables comprises dans [-1;1]. Ici, il va donc falloir faire une mise à l'échelle des variables à l'aide d'un scaler de Scikit-Learn : <code> MinMaxScaler </code> ([documentation](https://scikit-learn.org/stable/modules/generated/sklearn.preprocessing.MinMaxScaler.html#sklearn.preprocessing.MinMaxScaler)). De plus, afin de réduire les écarts de valeurs sur certaines variables nous allons appliquer un logarithme sur 11 de ces dernières à l'aide de la fonction  <code> log_dataframe </code> de ce Notebook.\n",
    "\n",
    "5. Prédire ensuite la catégorie des développeurs (\"NSSE\" ou \"SSE\") puis la stocker dans le dictionnaire <code> dict_classified_dev </code>. Faire un affichage à l'aide print pour visualiser l'évolution du nombre de dévoloppeurs dans chaque catégorie au fur et à mesure des versions.  \n"
   ]
  },
  {
   "cell_type": "code",
   "execution_count": 5,
   "metadata": {},
   "outputs": [
    {
     "name": "stdout",
     "output_type": "stream",
     "text": [
      " broadleaf-1.5.0-GA_broadleaf-1.6.0-GA_aggregated.csv SSE 1  NSSE 3\n",
      " broadleaf-1.5.0-GA_broadleaf-2.0.0-GA_aggregated.csv SSE 6  NSSE 2\n",
      " broadleaf-1.5.0-GA_broadleaf-2.1.0-GA_aggregated.csv SSE 6  NSSE 2\n",
      " broadleaf-1.5.0-GA_broadleaf-2.2.0-GA_aggregated.csv SSE 7  NSSE 3\n",
      " broadleaf-1.5.0-GA_broadleaf-2.3.0-GA_aggregated.csv SSE 7  NSSE 3\n",
      " broadleaf-1.5.0-GA_broadleaf-2.4.0-GA_aggregated.csv SSE 7  NSSE 3\n",
      " broadleaf-1.5.0-GA_broadleaf-3.0.0-GA_aggregated.csv SSE 7  NSSE 4\n",
      " broadleaf-1.5.0-GA_broadleaf-3.1.0-GA_aggregated.csv SSE 7  NSSE 9\n",
      " broadleaf-1.5.0-GA_broadleaf-4.0.0-GA_aggregated.csv SSE 7  NSSE 21\n",
      " broadleaf-1.5.0-GA_broadleaf-4.1.0-GA_aggregated.csv SSE 8  NSSE 24\n",
      " broadleaf-1.5.0-GA_broadleaf-5.0.0-GA_aggregated.csv SSE 11  NSSE 21\n",
      " broadleaf-1.5.0-GA_broadleaf-5.1.0-GA_aggregated.csv SSE 12  NSSE 23\n",
      " broadleaf-1.5.0-GA_broadleaf-5.2.0-GA_aggregated.csv SSE 12  NSSE 29\n",
      " broadleaf-1.5.0-GA_broadleaf-6.0.0-GA_aggregated.csv SSE 14  NSSE 37\n",
      " broadleaf-1.5.0-GA_broadleaf-6.1.0-GA_aggregated.csv SSE 15  NSSE 41\n",
      "{'SSE': [1, 6, 6, 7, 7, 7, 7, 7, 7, 8, 11, 12, 12, 14, 15], 'NSSE': [3, 2, 2, 3, 3, 3, 4, 9, 21, 24, 21, 23, 29, 37, 41]}\n"
     ]
    }
   ],
   "source": [
    "dict_classified_dev = {'SSE' : [], 'NSSE' : []}\n",
    "list_versions = []\n",
    "\n",
    "#Placer la suite du code ici\n",
    "classifieurFilePath = os.path.abspath(os.getcwd())+os.sep+\"classifier_rf.pkl\"\n",
    "# print(classifieurFilePath)\n",
    "randomForestClassifier = joblib.load(classifieurFilePath)\n",
    "# print(randomForestClassifier)\n",
    "metricsByDevFilesPath = os.path.abspath(os.getcwd())+os.sep+\"metrics_by_dev\"\n",
    "\n",
    "metricsByDevFiles = os.listdir(os.path.abspath(os.getcwd())+os.sep+\"metrics_by_dev\")\n",
    "# print(metricsByDevFiles)\n",
    "listDataFrames =[]\n",
    "\n",
    "for file in metricsByDevFiles : \n",
    "   \n",
    "    listDataFrames.append(pd.read_csv(metricsByDevFilesPath+os.sep+file))\n",
    "\n",
    "# print(listDataFrames)\n",
    "# print(listDataFrames[0])\n",
    "\n",
    "for df in listDataFrames : \n",
    "    delete_unused_columns(df)\n",
    "\n",
    "# print(listDataFrames[0])\n",
    "scaler = MinMaxScaler((-1,1))\n",
    "loglistDataFrames = []\n",
    "rescaledlistDataFrames = []\n",
    "\n",
    "for df in listDataFrames : \n",
    "    loglistDataFrames.append(log_dataframe(df))\n",
    "\n",
    "    \n",
    "# print(rescaledlistDataFrames[0])\n",
    "\n",
    "for df in loglistDataFrames : \n",
    "    rescaledlistDataFrames.append(scaler.fit_transform(df))\n",
    "\n",
    "\n",
    "\n",
    "for df in rescaledlistDataFrames : \n",
    "    value = randomForestClassifier.predict(df)\n",
    "    \n",
    "    dict_classified_dev['SSE'].append(value.tolist().count('SSE'))\n",
    "    dict_classified_dev['NSSE'].append(value.tolist().count('NSSE'))\n",
    "\n",
    "\n",
    "\n",
    "for i ,tag in  enumerate (metricsByDevFiles):\n",
    "    print(f' {tag} SSE {dict_classified_dev[\"SSE\"][i]}  NSSE {dict_classified_dev[\"NSSE\"][i]}')\n",
    "\n",
    "\n",
    "print(dict_classified_dev)"
   ]
  },
  {
   "cell_type": "markdown",
   "metadata": {},
   "source": [
    "## 3) Extraction du nombre total de lignes de code depuis les fichiers CSV\n",
    "\n",
    "Nous avons classé les développeurs par catégorie pour chaque version de BroadleafCommerce. \n",
    "L'étape suivante est d'extraire le nombre total de ligne de code pour chaque version de BroadleafCommerce. Pour cela chacun des fichiers triés par ordre alphanumérique croissant doit être ouvert avec Pandas. Vous devez ensuite faire la somme de la colonne \"loc\" des fichiers et l'ajouter à la liste <code> loc_by_versions </code>."
   ]
  },
  {
   "cell_type": "code",
   "execution_count": 6,
   "metadata": {},
   "outputs": [
    {
     "name": "stdout",
     "output_type": "stream",
     "text": [
      "[{'version': '1.5.0', 'nbrLignes': 78450}, {'version': '1.6.0', 'nbrLignes': 77640}, {'version': '2.0.0', 'nbrLignes': 100686}, {'version': '2.1.0', 'nbrLignes': 101778}, {'version': '2.2.0', 'nbrLignes': 105371}, {'version': '2.3.0', 'nbrLignes': 108435}, {'version': '2.4.0', 'nbrLignes': 108459}, {'version': '3.0.0', 'nbrLignes': 92314}, {'version': '3.1.0', 'nbrLignes': 102533}, {'version': '4.0.0', 'nbrLignes': 121023}, {'version': '4.1.0', 'nbrLignes': 127584}, {'version': '5.0.0', 'nbrLignes': 131071}, {'version': '5.1.0', 'nbrLignes': 127385}, {'version': '5.2.0', 'nbrLignes': 134819}, {'version': '6.0.0', 'nbrLignes': 140862}, {'version': '6.1.0', 'nbrLignes': 144383}, {'version': '6.2.0', 'nbrLignes': 150338}]\n"
     ]
    },
    {
     "data": {
      "text/plain": [
       "150338"
      ]
     },
     "execution_count": 6,
     "metadata": {},
     "output_type": "execute_result"
    }
   ],
   "source": [
    "def get_total_lines(df) : \n",
    "\n",
    "    return df['loc'].sum()\n",
    "\n",
    "#Liste où ajouter les loc de chaque version \n",
    "loc_by_versions = []\n",
    "# la liste des fichers qui reférances les fichier de chaque version \n",
    "CK_METRICS_PATH = os.path.abspath(os.getcwd())+os.sep+\"ck_metrics\"\n",
    "# print(CK_METRICS_PATH)\n",
    "ck_metricks_files = os.listdir(CK_METRICS_PATH)\n",
    "# print(ck_metricks_files)\n",
    "ck_metricks_files.remove('ck.jar')\n",
    "# print(ck_metricks_files)\n",
    "# calcule du nombre de linges \n",
    "dict_version_list = []\n",
    "version_dict = {}\n",
    "\n",
    "for file in ck_metricks_files : \n",
    "    df = pd.read_csv(CK_METRICS_PATH+os.sep+file) \n",
    "\n",
    "    version_dict = {\n",
    "        'version': file[16:21],\n",
    "        'nbrLignes' : get_total_lines(df)\n",
    "    }\n",
    "    loc_by_versions.append(get_total_lines(df))\n",
    "    dict_version_list.append(version_dict)\n",
    "\n",
    "\n",
    "print(dict_version_list)\n",
    "\n",
    "# on supprime les deux versions pour les quels nous n'avons pas de metric de dev\n",
    "loc_by_versions.pop(0)\n",
    "loc_by_versions.pop(-1)"
   ]
  },
  {
   "cell_type": "markdown",
   "metadata": {},
   "source": [
    "## 4) Tracé du graphique du nombre de développeurs SSE et nombre de lignes de code par version de BroadleafCommerce\n",
    "\n",
    "L'objectif ici est de tracer à l'aide du package matplotlib ([documentation](https://matplotlib.org/stable/contents.html)) un graphique à 3 axes comme montré dans la figure d'exemple ci-dessous. \n",
    "\n",
    "![Évolution du nombre de développeurs SSE vs LOC](plot_sse_vs_loc_by_version.png)\n",
    "\n",
    "En traçant cette figure vous devriez observer une particularité commune aux deux courbes, faite part de cette observation dans la case textutelle ci-desssous. "
   ]
  },
  {
   "cell_type": "markdown",
   "metadata": {},
   "source": [
    "**Observation** : "
   ]
  },
  {
   "cell_type": "code",
   "execution_count": 7,
   "metadata": {},
   "outputs": [
    {
     "name": "stdout",
     "output_type": "stream",
     "text": [
      "['1.6.0', '2.0.0', '2.1.0', '2.2.0', '2.3.0', '2.4.0', '3.0.0', '3.1.0', '4.0.0', '4.1.0', '5.0.0', '5.1.0', '5.2.0', '6.0.0', '6.1.0']\n",
      "15\n",
      "15\n",
      "15\n"
     ]
    },
    {
     "data": {
      "image/png": "[encoded data removed]",
      "text/plain": [
       "<Figure size 432x288 with 2 Axes>"
      ]
     },
     "metadata": {
      "needs_background": "light"
     },
     "output_type": "display_data"
    }
   ],
   "source": [
    "#liste of vesion \n",
    "vers= []\n",
    "for d in dict_version_list : \n",
    "    if(d['version'] != '1.5.0' and d['version'] != '6.2.0' ) :\n",
    "        vers.append(d['version'])\n",
    "\n",
    "print(vers)\n",
    "# vers.remove('1.5.0')\n",
    "\n",
    "print(len(vers))\n",
    "\n",
    "print(len(loc_by_versions))\n",
    "#list of SSE valus\n",
    "\n",
    "x=np.arange(0,15)\n",
    "print(len(x))\n",
    "fig, ax1 = plt.subplots()\n",
    "color = 'tab:red'\n",
    "ax1.set_xlabel('Versions')\n",
    "ax1.set_ylabel('SSE DEV',color=color)\n",
    "plt.xticks(x, vers)\n",
    "\n",
    "ax1.plot(x, dict_classified_dev['SSE'],color=color)\n",
    "#Création d'un deuxième axe Y \n",
    "ax2 = ax1.twinx()\n",
    "\n",
    "color = 'tab:blue'\n",
    "ax2.set_ylabel('nbr lignes', color=color)  # we already handled the x-label with ax1\n",
    "ax2.plot(x, loc_by_versions, color=color)\n",
    "\n",
    "ax1 = loc_by_versions\n",
    "\n",
    "plt.show()"
   ]
  },
  {
   "cell_type": "markdown",
   "metadata": {},
   "source": [
    "## 5) Création d'un estimateur du nombre de développeurs expérimentés en fonction de la taille du projet (LoC)\n",
    "\n",
    "\n",
    "Nous avons maintenant l'ensemble des données permettant de créer un estimateur du nombre de développeurs expérimentés en fonction du nombre de ligne de code du projet. \n",
    "Pour ce faire, nous allons mettre en oeuvre un estimateur basé sur une régression linéaire : <code> LinearRegression </code> ([documentation](https://scikit-learn.org/stable/modules/generated/sklearn.linear_model.LinearRegression.html)). Cet estimateur utilise la méthode des moindres carrés afin d'ajuster une droite d'équation *ax+b+e* où *a* est le coefficient directeur, *b* l'ordonnée à l'origine et *e* l'erreur liée aux moindres carrés. \n",
    "\n",
    "Pour cela nous allons : \n",
    "1. Créer un objet LinearRegression et l'ajuster sur <code> X </code> et <code> y </code> à l'aide de la méthode <code> fit </code>.\n",
    "2. Afficher le coefficient de régression sur <code> X </code> et <code> y </code>.\n",
    "3. Déterminer le coefficient de détermination linéaire avec la fonction <code> r2_score </code> ([documentation](https://scikit-learn.org/stable/modules/model_evaluation.html#r2-score)) qui mesure l'ajustement entre les prédiction du classifieur sur les données <code> X </code> par rapport aux sorties <code> y </code>, plus il proche de 1 meilleures sont les prédictions. \n",
    "4. Prédire le nombre de développeurs expérimentés SSE pour 150000, 180000 et 200000 lignes de code. \n",
    "5. Tracer un graphique semblable à la figure d'exemple ci-desssous :\n",
    "\n",
    "![](plot_sse_loc_prediction.png)\n",
    "\n",
    "Les points noirs sont les données déjà connues à savoir le nombre de développeurs expérimentés et le nombre de lignes de code pour chaque version. Les point rouges correspondent aux trois valeurs prédites pour 150000, 180000 et 200000 lignes. La droite bleu est la droite de régression. Pour tracer ce graphique vous pouvez vous inspirer de cet [exemple Scikit-Learn ](https://scikit-learn.org/stable/auto_examples/linear_model/plot_ols.html#sphx-glr-auto-examples-linear-model-plot-ols-py). \n",
    "\n",
    "Voilà vous êtes maintenant capable de prédire vos besoins en ressources humaines en fonction de la taille de votre projet :) ! "
   ]
  },
  {
   "cell_type": "code",
   "execution_count": 44,
   "metadata": {},
   "outputs": [
    {
     "name": "stdout",
     "output_type": "stream",
     "text": [
      "0.8584605562653664\n",
      "0.8351241152530238\n",
      "[14.6295484  19.90541608 23.4226612 ]\n"
     ]
    },
    {
     "data": {
      "image/png": "[encoded data removed]",
      "text/plain": [
       "<Figure size 432x288 with 1 Axes>"
      ]
     },
     "metadata": {
      "needs_background": "light"
     },
     "output_type": "display_data"
    }
   ],
   "source": [
    "#Valeurs X et y à utiliser pour entrainer et évaluer le régresseur\n",
    "X = np.array(loc_by_versions).reshape(-1,1)\n",
    "y = np.array(dict_classified_dev[\"SSE\"])\n",
    "\n",
    "#PLacer la suite du code ici\n",
    "\n",
    "reg=LinearRegression().fit(X,y)\n",
    "print(reg.score(X, y))\n",
    "\n",
    "print(r2_score(reg.predict(X), y))\n",
    "predictArray = np.array([150000 , 180000,200000])\n",
    "re=predictArray.reshape(-1,1)\n",
    "print(reg.predict(re))\n",
    "\n",
    "\n",
    "# Plot outputs\n",
    "fig, ax1 = plt.subplots()\n",
    "ax1.set_ylabel(\"Dev SEE\")\n",
    "ax1.set_xlabel(\"Loc\")\n",
    "plt.plot(X,y,marker='o',linestyle='None')\n",
    "plt.plot(re,reg.predict(re),'ro')\n",
    "plt.plot(X,reg.predict(X),color='blue')\n",
    "\n",
    "\n",
    "plt.show()"
   ]
  },
  {
   "cell_type": "markdown",
   "metadata": {},
   "source": [
    "---\n",
    "\n",
    "## Bonus\n",
    "\n",
    "Jusque là nous avons utilisé un classifieur Random Forest déjà entrainé puis sauvegardé au format Pickle (sérialisation). Dans le bloc de code ci-dessous vous trouverez le code qui a permis la création de ce classifieur. \n",
    "\n",
    "Ce code est découpé en plusieurs parties:\n",
    "\n",
    "* Ouverture du CSV contenant les développeurs et leurs métriques avec Pandas\n",
    "* Suppresssion des colonnes non utilisées pour la classification\n",
    "* Transformation des variables (logarithme et mise à l'échelle)\n",
    "* Création de l'objet permettant de générer des données synthétiques. Les données synthétiques permettent de contrebalancer le fait que nous n'ayons que peu de données dans la classe des développeurs expérimentés. \n",
    "* Création du classifieur ici un random forest\n",
    "* Évaluation du classifieur via 4-fold stratifié ([documentation](https://scikit-learn.org/stable/modules/generated/sklearn.model_selection.StratifiedKFold.html?highlight=stratifiedkfold#sklearn.model_selection.StratifiedKFold))\n",
    "* Génération de données synthétiques sur l'ensemble du jeu de données puis entrainement du modèle\n",
    "* Sauvegarde du modèle au format pickle\n",
    "\n",
    "Vous pouvez modifier plusieurs choses qui vont influer sur la qualité de votre classifieur :  \n",
    "- Les variables utilisées. Nous utilisons ici 23 métriques. Vous pouvez en supprimer dans le dataframe Pandas et constater l'effet. \n",
    "- Le scaler utilisé, ici un MinMax pour mettre les variables dans l'intervalle [-1,1] ([documentation sur les types de scaler](https://www.datacorner.fr/feature-scaling/))\n",
    "- Le type de classifieur utilisé (ici Random Forest) et ses paramètres. Vous pouvez choisir un autre classifieur parmis ceux fournis par le package Scikit Learn ([documentation](https://scikit-learn.org/stable/auto_examples/classification/plot_classifier_comparison.html#sphx-glr-auto-examples-classification-plot-classifier-comparison-py))\n",
    "- L'utilisation ou non de la génération de données synthétiques. \n",
    "\n",
    "\n",
    "\n",
    " "
   ]
  },
  {
   "cell_type": "markdown",
   "metadata": {
    "pycharm": {
     "name": "#%% md\n"
    }
   },
   "source": [
    "Returns labels (y)"
   ]
  },
  {
   "cell_type": "code",
   "execution_count": null,
   "metadata": {
    "pycharm": {
     "name": "#%%\n"
    }
   },
   "outputs": [],
   "source": [
    "def get_labels(df):\n",
    "    df.loc[df['job'] == \"SA\", 'job'] = \"SSE\"\n",
    "    df.loc[df['job'] != \"SSE\", 'job'] = \"NSSE\"\n",
    "\n",
    "    return df[\"job\"]"
   ]
  },
  {
   "cell_type": "markdown",
   "metadata": {
    "pycharm": {
     "name": "#%% md\n"
    }
   },
   "source": [
    "Scales data according to the scaler given as input"
   ]
  },
  {
   "cell_type": "code",
   "execution_count": null,
   "metadata": {
    "pycharm": {
     "name": "#%%\n"
    }
   },
   "outputs": [],
   "source": [
    "def scaling(scaler, X):\n",
    "    return scaler.fit_transform(X)"
   ]
  },
  {
   "cell_type": "markdown",
   "metadata": {
    "pycharm": {
     "name": "#%% md\n"
    }
   },
   "source": [
    "Creates synthetic data with original data using smote method."
   ]
  },
  {
   "cell_type": "code",
   "execution_count": null,
   "metadata": {
    "pycharm": {
     "name": "#%%\n"
    }
   },
   "outputs": [],
   "source": [
    "def create_synthetic_data(smote, X_scaled, y):\n",
    "    return smote.fit_resample(X_scaled, y)"
   ]
  },
  {
   "cell_type": "markdown",
   "metadata": {
    "pycharm": {
     "name": "#%% md\n"
    }
   },
   "source": [
    "Train the classifier with synthetic data an create a classification report on original data"
   ]
  },
  {
   "cell_type": "code",
   "execution_count": null,
   "metadata": {
    "pycharm": {
     "name": "#%%\n"
    }
   },
   "outputs": [],
   "source": [
    "def train_and_classification_report(classifier, X_synthetic, y_synthetic, X_scaled, y):\n",
    "    classifier.fit(X_synthetic, y_synthetic)\n",
    "    print(classification_report(y, classifier.predict(X_scaled)))"
   ]
  },
  {
   "cell_type": "code",
   "execution_count": null,
   "metadata": {
    "pycharm": {
     "name": "#%%\n"
    }
   },
   "outputs": [],
   "source": [
    "def stratifiedKFold_scoring(classifier, X_scaled, y, smote = None):\n",
    "    kf = StratifiedKFold(n_splits=4, shuffle=False)#, random_state=0)\n",
    "    print(\"===> Start kfold <===\")\n",
    "    scores = {\"F1\": {\"values\" : []}, \"Recall\": {\"values\" : []},\n",
    "              \"Precision\": {\"values\" : []}, \"Balanced\\nAccuracy\" : {\"values\" : []}}\n",
    "\n",
    "    for fold, (train_index, test_index) in enumerate(kf.split(X_scaled, y), 1):\n",
    "        print(\"=> Fold : \",fold)\n",
    "        #print(\"TRAIN:\", train_index, \"TEST:\", test_index)\n",
    "        X_train = X_scaled[train_index]\n",
    "        y_train = y[train_index]\n",
    "        X_test = X_scaled[test_index]\n",
    "        y_test = y[test_index]\n",
    "\n",
    "        if smote is not None:\n",
    "            X_train_synthetic, y_train_synthetic = smote.fit_resample(X_train, y_train)\n",
    "            classifier.fit(X_train_synthetic, y_train_synthetic)\n",
    "        else:\n",
    "            classifier.fit(X_train, y_train)\n",
    "        y_pred = classifier.predict(X_test)\n",
    "\n",
    "        f1 = f1_score(y_test, y_pred, pos_label=\"SSE\")\n",
    "        recall = recall_score(y_test, y_pred, pos_label=\"SSE\")\n",
    "        precision = precision_score(y_test, y_pred, pos_label=\"SSE\")\n",
    "        accuracy = balanced_accuracy_score(y_test, y_pred)\n",
    "\n",
    "        scores[\"F1\"][\"values\"].append(f1)\n",
    "        scores[\"Recall\"][\"values\"].append(recall)\n",
    "        scores[\"Precision\"][\"values\"].append(precision)\n",
    "        scores[\"Balanced\\nAccuracy\"][\"values\"].append(accuracy)\n",
    "\n",
    "    for key in scores:\n",
    "        scores[key][\"values\"] = np.array(scores[key][\"values\"])\n",
    "        scores[key][\"mean\"] = np.mean(scores[key][\"values\"])\n",
    "        scores[key][\"std\"] = np.std(scores[key][\"values\"])\n",
    "        scores[key][\"ci95\"] = np.std(scores[key][\"values\"]) * 2\n",
    "\n",
    "        print(key, \"mean :%0.4f\" % scores[key][\"mean\"])\n",
    "        print(key, \"std : %0.4f\" % scores[key][\"std\"])\n",
    "        print(key, \"95%% Confidence Interval +/- %0.4f\" % (scores[key][\"ci95\"]))\n",
    "        print()\n",
    "    return scores"
   ]
  },
  {
   "cell_type": "code",
   "execution_count": null,
   "metadata": {
    "pycharm": {
     "name": "#%%\n"
    }
   },
   "outputs": [
    {
     "name": "stdout",
     "output_type": "stream",
     "text": [
      "===> Start kfold <===\n",
      "=> Fold :  1\n",
      "=> Fold :  2\n",
      "=> Fold :  3\n",
      "=> Fold :  4\n",
      "F1 mean :0.7689\n",
      "F1 std : 0.0263\n",
      "F1 95% Confidence Interval +/- 0.0525\n",
      "\n",
      "Recall mean :0.7538\n",
      "Recall std : 0.0800\n",
      "Recall 95% Confidence Interval +/- 0.1601\n",
      "\n",
      "Precision mean :0.7937\n",
      "Precision std : 0.0414\n",
      "Precision 95% Confidence Interval +/- 0.0828\n",
      "\n",
      "Balanced\n",
      "Accuracy mean :0.8603\n",
      "Balanced\n",
      "Accuracy std : 0.0343\n",
      "Balanced\n",
      "Accuracy 95% Confidence Interval +/- 0.0687\n",
      "\n"
     ]
    }
   ],
   "source": [
    "df = pd.read_csv(\"dataset_dev_anonymized.csv\")\n",
    "y = get_labels(df)\n",
    "\n",
    "delete_unused_columns(df)\n",
    "\n",
    "log_dataframe(df)\n",
    "scaler = MinMaxScaler(feature_range=(-1,1))\n",
    "\n",
    "X = df\n",
    "X_scaled = scaling(scaler, X)\n",
    "\n",
    "#Instanciation du générateur de données synthétiques à l'aide de la méthode k-means SMOTE\n",
    "smote = KMeansSMOTE(sampling_strategy='minority', random_state=9090)\n",
    "#Création du classifieur RF\n",
    "classifier = RandomForestClassifier(criterion='gini', max_depth=None, max_features='log2', n_estimators=75, random_state=0)\n",
    "\n",
    "#Évaluation du classifieur à l'aide d'un 4-fold stratifié\n",
    "stratifiedKFold_scoring(classifier, X_scaled, y, smote = smote)\n",
    "\n",
    "#Génération de données synthétiques sur l'ensemble des données\n",
    "X_synthetic, y_synthetic = smote.fit_resample(X_scaled, y)\n",
    "#Entrainement du classifieur sur les données synthétiques\n",
    "classifier.fit(X_synthetic, y_synthetic)\n",
    "#Sauvegarde du classifieur (sérialisation) \n",
    "pickle.dump(classifier, open(\"classifier_rf.pkl\", 'wb'))\n"
   ]
  }
 ],
 "metadata": {
  "interpreter": {
   "hash": "8863f9749f7bb0b14ef0720e58fc66cb85cd8e2bd1eed9840266c62115a9fe40"
  },
  "kernelspec": {
   "display_name": "Python 3.9.7 64-bit (windows store)",
   "name": "python3"
  },
  "language_info": {
   "codemirror_mode": {
    "name": "ipython",
    "version": 3
   },
   "file_extension": ".py",
   "mimetype": "text/x-python",
   "name": "python",
   "nbconvert_exporter": "python",
   "pygments_lexer": "ipython3",
   "version": "3.9.8"
  }
 },
 "nbformat": 4,
 "nbformat_minor": 1
}
